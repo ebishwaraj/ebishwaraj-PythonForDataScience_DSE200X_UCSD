{
 "cells": [
  {
   "cell_type": "code",
   "execution_count": null,
   "metadata": {},
   "outputs": [],
   "source": [
    "# Data Source: https://www.kaggle.com/worldbank/world-development-indicators\n",
    "# Folder: 'world-development-indicators'"
   ]
  },
  {
   "cell_type": "markdown",
   "metadata": {},
   "source": [
    "<br><p style=\"font-family: Trebuchet; font-size:3.75em;color:brown; font-style:bold\">\n",
    "Role of Foreign Aid in Development </p><br><br>\n",
    "### Do foreign aid work? How does receiving foreign aid work vs. country's spending on economic reform/infrastructure for overall development ?"
   ]
  },
  {
   "cell_type": "code",
   "execution_count": 1,
   "metadata": {},
   "outputs": [],
   "source": [
    "%%capture\n",
    "! pip install seaborn\n",
    "import seaborn as sns\n",
    "%matplotlib inline\n",
    "#Import seaborn\n",
    "\n",
    "import pandas as pd\n",
    "import numpy as np\n",
    "import random\n",
    "import matplotlib.pyplot as plt"
   ]
  },
  {
   "cell_type": "code",
   "execution_count": 3,
   "metadata": {},
   "outputs": [
    {
     "data": {
      "text/plain": [
       "(5656458, 6)"
      ]
     },
     "execution_count": 3,
     "metadata": {},
     "output_type": "execute_result"
    }
   ],
   "source": [
    "data = pd.read_csv('./world-development-indicators/Indicators.csv')\n",
    "data.shape"
   ]
  },
  {
   "cell_type": "code",
   "execution_count": 5,
   "metadata": {},
   "outputs": [],
   "source": [
    "countries = data['CountryName'].unique().tolist()\n",
    "indicators = data['IndicatorName'].unique().tolist()"
   ]
  },
  {
   "cell_type": "markdown",
   "metadata": {},
   "source": [
    "Reviewing the columns i.e. data attributes."
   ]
  },
  {
   "cell_type": "code",
   "execution_count": 42,
   "metadata": {},
   "outputs": [
    {
     "data": {
      "text/html": [
       "<div>\n",
       "<style scoped>\n",
       "    .dataframe tbody tr th:only-of-type {\n",
       "        vertical-align: middle;\n",
       "    }\n",
       "\n",
       "    .dataframe tbody tr th {\n",
       "        vertical-align: top;\n",
       "    }\n",
       "\n",
       "    .dataframe thead th {\n",
       "        text-align: right;\n",
       "    }\n",
       "</style>\n",
       "<table border=\"1\" class=\"dataframe\">\n",
       "  <thead>\n",
       "    <tr style=\"text-align: right;\">\n",
       "      <th></th>\n",
       "      <th>CountryName</th>\n",
       "      <th>CountryCode</th>\n",
       "      <th>IndicatorName</th>\n",
       "      <th>IndicatorCode</th>\n",
       "      <th>Year</th>\n",
       "      <th>Value</th>\n",
       "    </tr>\n",
       "  </thead>\n",
       "  <tbody>\n",
       "    <tr>\n",
       "      <th>0</th>\n",
       "      <td>Arab World</td>\n",
       "      <td>ARB</td>\n",
       "      <td>Adolescent fertility rate (births per 1,000 wo...</td>\n",
       "      <td>SP.ADO.TFRT</td>\n",
       "      <td>1960</td>\n",
       "      <td>1.335609e+02</td>\n",
       "    </tr>\n",
       "    <tr>\n",
       "      <th>1</th>\n",
       "      <td>Arab World</td>\n",
       "      <td>ARB</td>\n",
       "      <td>Age dependency ratio (% of working-age populat...</td>\n",
       "      <td>SP.POP.DPND</td>\n",
       "      <td>1960</td>\n",
       "      <td>8.779760e+01</td>\n",
       "    </tr>\n",
       "    <tr>\n",
       "      <th>2</th>\n",
       "      <td>Arab World</td>\n",
       "      <td>ARB</td>\n",
       "      <td>Age dependency ratio, old (% of working-age po...</td>\n",
       "      <td>SP.POP.DPND.OL</td>\n",
       "      <td>1960</td>\n",
       "      <td>6.634579e+00</td>\n",
       "    </tr>\n",
       "    <tr>\n",
       "      <th>3</th>\n",
       "      <td>Arab World</td>\n",
       "      <td>ARB</td>\n",
       "      <td>Age dependency ratio, young (% of working-age ...</td>\n",
       "      <td>SP.POP.DPND.YG</td>\n",
       "      <td>1960</td>\n",
       "      <td>8.102333e+01</td>\n",
       "    </tr>\n",
       "    <tr>\n",
       "      <th>4</th>\n",
       "      <td>Arab World</td>\n",
       "      <td>ARB</td>\n",
       "      <td>Arms exports (SIPRI trend indicator values)</td>\n",
       "      <td>MS.MIL.XPRT.KD</td>\n",
       "      <td>1960</td>\n",
       "      <td>3.000000e+06</td>\n",
       "    </tr>\n",
       "  </tbody>\n",
       "</table>\n",
       "</div>"
      ],
      "text/plain": [
       "  CountryName CountryCode                                      IndicatorName  \\\n",
       "0  Arab World         ARB  Adolescent fertility rate (births per 1,000 wo...   \n",
       "1  Arab World         ARB  Age dependency ratio (% of working-age populat...   \n",
       "2  Arab World         ARB  Age dependency ratio, old (% of working-age po...   \n",
       "3  Arab World         ARB  Age dependency ratio, young (% of working-age ...   \n",
       "4  Arab World         ARB        Arms exports (SIPRI trend indicator values)   \n",
       "\n",
       "    IndicatorCode  Year         Value  \n",
       "0     SP.ADO.TFRT  1960  1.335609e+02  \n",
       "1     SP.POP.DPND  1960  8.779760e+01  \n",
       "2  SP.POP.DPND.OL  1960  6.634579e+00  \n",
       "3  SP.POP.DPND.YG  1960  8.102333e+01  \n",
       "4  MS.MIL.XPRT.KD  1960  3.000000e+06  "
      ]
     },
     "execution_count": 42,
     "metadata": {},
     "output_type": "execute_result"
    }
   ],
   "source": [
    "data.head()"
   ]
  },
  {
   "cell_type": "code",
   "execution_count": 7,
   "metadata": {},
   "outputs": [],
   "source": [
    "#indicators"
   ]
  },
  {
   "cell_type": "markdown",
   "metadata": {},
   "source": [
    "#### We want to compare the relationship between Net ODA/capita, Lending Rate, and Foreign Investment Inward vs. the GDP/capita of the given year. We shall base our study in 'Nepal' and can repeat similar assessment for other countries later."
   ]
  },
  {
   "cell_type": "code",
   "execution_count": 6,
   "metadata": {
    "scrolled": true
   },
   "outputs": [
    {
     "data": {
      "text/plain": [
       "(177, 6)"
      ]
     },
     "execution_count": 6,
     "metadata": {},
     "output_type": "execute_result"
    }
   ],
   "source": [
    "# Let's define the indicator filters\n",
    "indicators = ['Net ODA received per capita (current US$)','Lending interest rate (%)','GDP per capita (current US$)','Foreign direct investment, net inflows (% of GDP)']\n",
    "filterMesh = (data['CountryName'] == 'Nepal') & (data['IndicatorName'].isin(indicators))\n",
    "nepal_all = data.loc[filterMesh]\n",
    "nepal_all.shape \n",
    "#nepal_all.tail(20)"
   ]
  },
  {
   "cell_type": "markdown",
   "metadata": {},
   "source": [
    "Let's try and create 1 dataframe each for each indicator of interest"
   ]
  },
  {
   "cell_type": "markdown",
   "metadata": {},
   "source": [
    " We'll have to identify the total donation from differnt unique sources for each country and then group multiple data from each country to get a sum total of all aid"
   ]
  },
  {
   "cell_type": "code",
   "execution_count": 7,
   "metadata": {},
   "outputs": [],
   "source": [
    "filterMesh_ODA = (data['CountryName'] == 'Nepal') & (data['IndicatorName']=='Net ODA received per capita (current US$)')\n",
    "nepal_ODA = data.loc[filterMesh_ODA]\n",
    "filterMesh_int = (data['CountryName'] == 'Nepal') & (data['IndicatorName']=='Lending interest rate (%)')\n",
    "nepal_int = data.loc[filterMesh_int]\n",
    "filterMesh_GDP = (data['CountryName'] == 'Nepal') & (data['IndicatorName']=='GDP per capita (current US$)')\n",
    "nepal_GDP = data.loc[filterMesh_GDP]\n",
    "filterMesh_FDI = (data['CountryName'] == 'Nepal') & (data['IndicatorName']=='Foreign direct investment, net inflows (% of GDP)')\n",
    "nepal_FDI = data.loc[filterMesh_FDI]\n",
    "#Let's see the shape of each df\n",
    "#nepal_ODA.shape #54\n",
    "#nepal_int.shape #31\n",
    "#nepal_GDP.shape #55\n",
    "#nepal_FDI.shape #37\n"
   ]
  },
  {
   "cell_type": "markdown",
   "metadata": {},
   "source": [
    "Looking at the number of data points, we have similar numbers for ODA and for GDP/cap, while similar number of entries exist for interest rates and FDI %"
   ]
  },
  {
   "cell_type": "code",
   "execution_count": 8,
   "metadata": {
    "scrolled": true
   },
   "outputs": [
    {
     "data": {
      "text/html": [
       "<div>\n",
       "<style scoped>\n",
       "    .dataframe tbody tr th:only-of-type {\n",
       "        vertical-align: middle;\n",
       "    }\n",
       "\n",
       "    .dataframe tbody tr th {\n",
       "        vertical-align: top;\n",
       "    }\n",
       "\n",
       "    .dataframe thead th {\n",
       "        text-align: right;\n",
       "    }\n",
       "</style>\n",
       "<table border=\"1\" class=\"dataframe\">\n",
       "  <thead>\n",
       "    <tr style=\"text-align: right;\">\n",
       "      <th></th>\n",
       "      <th>CountryName</th>\n",
       "      <th>CountryCode</th>\n",
       "      <th>IndicatorName</th>\n",
       "      <th>IndicatorCode</th>\n",
       "      <th>Year</th>\n",
       "      <th>Value</th>\n",
       "    </tr>\n",
       "  </thead>\n",
       "  <tbody>\n",
       "    <tr>\n",
       "      <th>4783517</th>\n",
       "      <td>Nepal</td>\n",
       "      <td>NPL</td>\n",
       "      <td>Net ODA received per capita (current US$)</td>\n",
       "      <td>DT.ODA.ODAT.PC.ZS</td>\n",
       "      <td>2009</td>\n",
       "      <td>32.125775</td>\n",
       "    </tr>\n",
       "    <tr>\n",
       "      <th>4968050</th>\n",
       "      <td>Nepal</td>\n",
       "      <td>NPL</td>\n",
       "      <td>Net ODA received per capita (current US$)</td>\n",
       "      <td>DT.ODA.ODAT.PC.ZS</td>\n",
       "      <td>2010</td>\n",
       "      <td>30.449574</td>\n",
       "    </tr>\n",
       "    <tr>\n",
       "      <th>5147596</th>\n",
       "      <td>Nepal</td>\n",
       "      <td>NPL</td>\n",
       "      <td>Net ODA received per capita (current US$)</td>\n",
       "      <td>DT.ODA.ODAT.PC.ZS</td>\n",
       "      <td>2011</td>\n",
       "      <td>32.552054</td>\n",
       "    </tr>\n",
       "    <tr>\n",
       "      <th>5323263</th>\n",
       "      <td>Nepal</td>\n",
       "      <td>NPL</td>\n",
       "      <td>Net ODA received per capita (current US$)</td>\n",
       "      <td>DT.ODA.ODAT.PC.ZS</td>\n",
       "      <td>2012</td>\n",
       "      <td>27.989294</td>\n",
       "    </tr>\n",
       "    <tr>\n",
       "      <th>5485426</th>\n",
       "      <td>Nepal</td>\n",
       "      <td>NPL</td>\n",
       "      <td>Net ODA received per capita (current US$)</td>\n",
       "      <td>DT.ODA.ODAT.PC.ZS</td>\n",
       "      <td>2013</td>\n",
       "      <td>31.276831</td>\n",
       "    </tr>\n",
       "  </tbody>\n",
       "</table>\n",
       "</div>"
      ],
      "text/plain": [
       "        CountryName CountryCode                              IndicatorName  \\\n",
       "4783517       Nepal         NPL  Net ODA received per capita (current US$)   \n",
       "4968050       Nepal         NPL  Net ODA received per capita (current US$)   \n",
       "5147596       Nepal         NPL  Net ODA received per capita (current US$)   \n",
       "5323263       Nepal         NPL  Net ODA received per capita (current US$)   \n",
       "5485426       Nepal         NPL  Net ODA received per capita (current US$)   \n",
       "\n",
       "             IndicatorCode  Year      Value  \n",
       "4783517  DT.ODA.ODAT.PC.ZS  2009  32.125775  \n",
       "4968050  DT.ODA.ODAT.PC.ZS  2010  30.449574  \n",
       "5147596  DT.ODA.ODAT.PC.ZS  2011  32.552054  \n",
       "5323263  DT.ODA.ODAT.PC.ZS  2012  27.989294  \n",
       "5485426  DT.ODA.ODAT.PC.ZS  2013  31.276831  "
      ]
     },
     "execution_count": 8,
     "metadata": {},
     "output_type": "execute_result"
    }
   ],
   "source": [
    "# Let's concatenate 2 dataframes combining information on GDP per capital and net ODA per capita\n",
    "nepal_ODA.tail()"
   ]
  },
  {
   "cell_type": "code",
   "execution_count": 38,
   "metadata": {},
   "outputs": [],
   "source": [
    "#Dropiing irrevant columns and renaming value from each data frames\n",
    "#ODA / capita\n",
    "#nepal_ODA.drop(['CountryCode', 'IndicatorName','CountryName','IndicatorCode'], axis = 1, inplace = True)\n",
    "#nepal_ODA.rename(columns={'Value': 'ODA per Cap'}, inplace=True)\n",
    "#nepal_ODA.reset_index\n",
    "#nepal_ODA = nepal_ODA.set_index('Year')\n",
    "#nepal_ODA.head()\n",
    "\n",
    "#GDP/Cap\n",
    "#nepal_GDP.head()\n",
    "#nepal_GDP.drop(['CountryCode', 'IndicatorName','CountryName','IndicatorCode'], axis = 1, inplace = True)\n",
    "#nepal_GDP.rename(columns={'Value': 'GDP per Cap'}, inplace=True)\n",
    "#nepal_GDP.reset_index\n",
    "#nepal_GDP = nepal_GDP.set_index('Year')\n",
    "#nepal_GDP.head()\n",
    "\n",
    "#Now we sneed to join two data frames corresponding to the years\n",
    "final = pd.merge(nepal_ODA, nepal_GDP, on = 'Year')\n",
    "final.head()\n",
    "#final.shape #54\n",
    "final.dropna(axis = 0, inplace = True)\n",
    "#final.shape #54\n"
   ]
  },
  {
   "cell_type": "markdown",
   "metadata": {},
   "source": [
    "We now have a dataset comprising ODA per capita with GDP per capita. Let's see the correlation between these.\n"
   ]
  },
  {
   "cell_type": "code",
   "execution_count": 40,
   "metadata": {},
   "outputs": [
    {
     "data": {
      "text/plain": [
       "<matplotlib.axes._subplots.AxesSubplot at 0x22bc6a82940>"
      ]
     },
     "execution_count": 40,
     "metadata": {},
     "output_type": "execute_result"
    },
    {
     "data": {
      "image/png": "[encoded data removed]",
      "text/plain": [
       "<Figure size 432x288 with 1 Axes>"
      ]
     },
     "metadata": {
      "needs_background": "light"
     },
     "output_type": "display_data"
    }
   ],
   "source": [
    "sns.regplot(x='ODA per Cap', y='GDP per Cap', data=final)"
   ]
  },
  {
   "cell_type": "markdown",
   "metadata": {},
   "source": [
    "<b>P-value</b>: \n",
    "<p> The P-value is the probability value that the correlation between these two variables is statistically significant. Normally, we choose a significance level of 0.05, which means that we are 95% confident that the correlation between the variables is significant.</p>\n",
    "\n",
    "By convention, when the\n",
    "<ul>\n",
    "    <li>p-value is $<$ 0.001: we say there is strong evidence that the correlation is significant.</li>\n",
    "    <li>the p-value is $<$ 0.05: there is moderate evidence that the correlation is significant.</li>\n",
    "    <li>the p-value is $<$ 0.1: there is weak evidence that the correlation is significant.</li>\n",
    "    <li>the p-value is $>$ 0.1: there is no evidence that the correlation is significant.</li>\n",
    "</ul>"
   ]
  },
  {
   "cell_type": "code",
   "execution_count": 46,
   "metadata": {},
   "outputs": [],
   "source": [
    "from scipy import stats"
   ]
  },
  {
   "cell_type": "code",
   "execution_count": 47,
   "metadata": {},
   "outputs": [
    {
     "name": "stdout",
     "output_type": "stream",
     "text": [
      "The Pearson Correlation Coefficient is 0.8337417202326664  with a P-value of P = 5.064253994855163e-15\n"
     ]
    }
   ],
   "source": [
    "pearson_coef, p_value = stats.pearsonr(final['ODA per Cap'], final['GDP per Cap'])\n",
    "print(\"The Pearson Correlation Coefficient is\", pearson_coef, \" with a P-value of P =\", p_value)  "
   ]
  },
  {
   "cell_type": "code",
   "execution_count": null,
   "metadata": {},
   "outputs": [],
   "source": []
  }
 ],
 "metadata": {
  "kernelspec": {
   "display_name": "Python 3",
   "language": "python",
   "name": "python3"
  },
  "language_info": {
   "codemirror_mode": {
    "name": "ipython",
    "version": 3
   },
   "file_extension": ".py",
   "mimetype": "text/x-python",
   "name": "python",
   "nbconvert_exporter": "python",
   "pygments_lexer": "ipython3",
   "version": "3.7.3"
  }
 },
 "nbformat": 4,
 "nbformat_minor": 2
}
